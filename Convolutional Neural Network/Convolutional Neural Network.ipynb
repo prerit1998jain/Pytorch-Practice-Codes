{
 "cells": [
  {
   "cell_type": "code",
   "execution_count": 2,
   "metadata": {},
   "outputs": [],
   "source": [
    "######################################################################\n",
    "###############   IMPORTING THE NECESSARY PACKAGES  ##################\n",
    "######################################################################\n",
    "\n",
    "import torch\n",
    "import torch.nn as nn\n",
    "import torchvision\n",
    "import torchvision.transforms as transforms"
   ]
  },
  {
   "cell_type": "code",
   "execution_count": 3,
   "metadata": {},
   "outputs": [
    {
     "name": "stdout",
     "output_type": "stream",
     "text": [
      "cuda\n"
     ]
    }
   ],
   "source": [
    "######################################################################\n",
    "####################   DEVICE CONFIGURATION  #########################\n",
    "######################################################################\n",
    "\n",
    "device = ('cuda' if torch.cuda.is_available() else 'cpu')\n",
    "print(device)"
   ]
  },
  {
   "cell_type": "code",
   "execution_count": 4,
   "metadata": {},
   "outputs": [],
   "source": [
    "######################################################################\n",
    "#########################  HYPERPARAMETERS ###########################\n",
    "######################################################################\n",
    "\n",
    "batch_size = 100\n",
    "num_classes = 10\n",
    "num_epochs = 5\n",
    "learning_rate = 0.001"
   ]
  },
  {
   "cell_type": "code",
   "execution_count": 5,
   "metadata": {},
   "outputs": [],
   "source": [
    "######################################################################\n",
    "###############   IMPORTING THE NECESSARY PACKAGES  ##################\n",
    "######################################################################\n",
    "\n",
    "train_dataset = torchvision.datasets.MNIST(root = 'data/', train = True, transform = transforms.ToTensor(), download = True)\n",
    "test_dataset = torchvision.datasets.MNIST(root = 'data/', train = False, transform = transforms.ToTensor())\n",
    "\n",
    "trainLoader = torch.utils.data.DataLoader(dataset = train_dataset, batch_size = batch_size, shuffle = True)\n",
    "testLoader = torch.utils.data.DataLoader(dataset = test_dataset, batch_size = batch_size, shuffle = False)"
   ]
  },
  {
   "cell_type": "code",
   "execution_count": 7,
   "metadata": {},
   "outputs": [],
   "source": [
    "######################################################################\n",
    "########################   DEFINING THE MODEL   ######################\n",
    "######################################################################\n",
    "\n",
    "class ConvNet(nn.Module):\n",
    "    def __init__(self, num_classes = 10):\n",
    "        super(ConvNet, self).__init__()\n",
    "        self.layer1 = nn.Sequential(\n",
    "            nn.Conv2d(1,16,kernel_size = 5, stride = 1, padding = 2),\n",
    "            nn.BatchNorm2d(16),\n",
    "            nn.ReLU(),\n",
    "            nn.MaxPool2d(kernel_size = 2, stride = 2))\n",
    "        self.layer2 = nn.Sequential(\n",
    "            nn.Conv2d(16,32, kernel_size = 5, stride = 1, padding = 2),\n",
    "            nn.BatchNorm2d(32),\n",
    "            nn.ReLU(),\n",
    "            nn.MaxPool2d(kernel_size = 2, stride = 2))\n",
    "        self.fc = nn.Linear(7*7*32, num_classes)\n",
    "        \n",
    "    def forward(self,x):\n",
    "        out = self.layer1(x)\n",
    "        out = self.layer2(out)\n",
    "        out = out.reshape(out.size(0),-1)\n",
    "        out = self.fc(out)\n",
    "        return(out)\n",
    "    \n",
    "model = ConvNet(num_classes = 10).to(device)"
   ]
  },
  {
   "cell_type": "code",
   "execution_count": 10,
   "metadata": {},
   "outputs": [],
   "source": [
    "######################################################################\n",
    "################   DEFINING THE LOSS AND CRITERION   #################\n",
    "######################################################################\n",
    "\n",
    "criterion = nn.CrossEntropyLoss()\n",
    "optimizer = torch.optim.Adam(model.parameters(), lr = learning_rate)"
   ]
  },
  {
   "cell_type": "code",
   "execution_count": 14,
   "metadata": {},
   "outputs": [
    {
     "name": "stdout",
     "output_type": "stream",
     "text": [
      "epoch: [0/5], step: [100/600], Loss: 0.1189 \n",
      "\n",
      "epoch: [0/5], step: [200/600], Loss: 0.1792 \n",
      "\n",
      "epoch: [0/5], step: [300/600], Loss: 0.0815 \n",
      "\n",
      "epoch: [0/5], step: [400/600], Loss: 0.0341 \n",
      "\n",
      "epoch: [0/5], step: [500/600], Loss: 0.0318 \n",
      "\n",
      "epoch: [0/5], step: [600/600], Loss: 0.0193 \n",
      "\n",
      "epoch: [1/5], step: [100/600], Loss: 0.0437 \n",
      "\n",
      "epoch: [1/5], step: [200/600], Loss: 0.0623 \n",
      "\n",
      "epoch: [1/5], step: [300/600], Loss: 0.0722 \n",
      "\n",
      "epoch: [1/5], step: [400/600], Loss: 0.0222 \n",
      "\n",
      "epoch: [1/5], step: [500/600], Loss: 0.0518 \n",
      "\n",
      "epoch: [1/5], step: [600/600], Loss: 0.0142 \n",
      "\n",
      "epoch: [2/5], step: [100/600], Loss: 0.0060 \n",
      "\n",
      "epoch: [2/5], step: [200/600], Loss: 0.0345 \n",
      "\n",
      "epoch: [2/5], step: [300/600], Loss: 0.0061 \n",
      "\n",
      "epoch: [2/5], step: [400/600], Loss: 0.0519 \n",
      "\n",
      "epoch: [2/5], step: [500/600], Loss: 0.0181 \n",
      "\n",
      "epoch: [2/5], step: [600/600], Loss: 0.0049 \n",
      "\n",
      "epoch: [3/5], step: [100/600], Loss: 0.0397 \n",
      "\n",
      "epoch: [3/5], step: [200/600], Loss: 0.0324 \n",
      "\n",
      "epoch: [3/5], step: [300/600], Loss: 0.0328 \n",
      "\n",
      "epoch: [3/5], step: [400/600], Loss: 0.0300 \n",
      "\n",
      "epoch: [3/5], step: [500/600], Loss: 0.0488 \n",
      "\n",
      "epoch: [3/5], step: [600/600], Loss: 0.0844 \n",
      "\n",
      "epoch: [4/5], step: [100/600], Loss: 0.0244 \n",
      "\n",
      "epoch: [4/5], step: [200/600], Loss: 0.0554 \n",
      "\n",
      "epoch: [4/5], step: [300/600], Loss: 0.0054 \n",
      "\n",
      "epoch: [4/5], step: [400/600], Loss: 0.0609 \n",
      "\n",
      "epoch: [4/5], step: [500/600], Loss: 0.0268 \n",
      "\n",
      "epoch: [4/5], step: [600/600], Loss: 0.0425 \n",
      "\n"
     ]
    }
   ],
   "source": [
    "######################################################################\n",
    "######################   TRAINING THE MODEL   ########################\n",
    "######################################################################\n",
    "\n",
    "total_step = len(trainLoader)\n",
    "for epoch in range(num_epochs):\n",
    "    for i, (images, labels) in enumerate(trainLoader):\n",
    "        images = images.to(device)\n",
    "        labels = labels.to(device)\n",
    "        \n",
    "        # Forward Propagation\n",
    "        outputs = model(images)\n",
    "        loss = criterion(outputs, labels)\n",
    "        \n",
    "        # Backpropagation\n",
    "        optimizer.zero_grad()\n",
    "        loss.backward()\n",
    "        optimizer.step()\n",
    "        \n",
    "        #if (i+1)%300:\n",
    "            \n",
    "        if (i+1)%100 == 0:\n",
    "            print(\"epoch: [{}/{}], step: [{}/{}], Loss: {:.4f} \\n\".format(epoch+1,\n",
    "            num_epochs, i+1, total_step, loss.item()))\n",
    "            \n",
    "            "
   ]
  },
  {
   "cell_type": "code",
   "execution_count": 17,
   "metadata": {},
   "outputs": [
    {
     "name": "stdout",
     "output_type": "stream",
     "text": [
      "Test Accuracy of the model on the 10000 test images: 98.77 %\n"
     ]
    }
   ],
   "source": [
    "######################################################################\n",
    "##########################   TESTING THE MODEL    ####################\n",
    "######################################################################\n",
    "\n",
    "# This is for using batchnormalization learned parameter while training\n",
    "# for testing data\n",
    "model.eval()\n",
    "\n",
    "with torch.no_grad():\n",
    "    correct = 0\n",
    "    total = 0\n",
    "    for images, labels in testLoader:\n",
    "        images = images.to(device)\n",
    "        labels = labels.to(device)\n",
    "        \n",
    "        outputs = model(images)\n",
    "        \n",
    "        _,predicted = torch.max(outputs.data,1)\n",
    "        total += labels.size(0)\n",
    "        correct += (predicted == labels).sum().item()\n",
    "        \n",
    "    print('Test Accuracy of the model on the 10000 test images: {} %'.format(100 * correct / total))"
   ]
  },
  {
   "cell_type": "code",
   "execution_count": null,
   "metadata": {},
   "outputs": [],
   "source": []
  }
 ],
 "metadata": {
  "kernelspec": {
   "display_name": "Python 3",
   "language": "python",
   "name": "python3"
  },
  "language_info": {
   "codemirror_mode": {
    "name": "ipython",
    "version": 3
   },
   "file_extension": ".py",
   "mimetype": "text/x-python",
   "name": "python",
   "nbconvert_exporter": "python",
   "pygments_lexer": "ipython3",
   "version": "3.6.8"
  }
 },
 "nbformat": 4,
 "nbformat_minor": 2
}
