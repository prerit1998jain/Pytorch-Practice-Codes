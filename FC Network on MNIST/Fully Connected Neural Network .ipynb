{
 "cells": [
  {
   "cell_type": "code",
   "execution_count": 21,
   "metadata": {},
   "outputs": [],
   "source": [
    "######################################################################\n",
    "###############   IMPORTING THE NECESSARY PACKAGES  ##################\n",
    "######################################################################\n",
    "\n",
    "import torch\n",
    "import torchvision\n",
    "import torchvision.transforms as transforms\n",
    "import torch.nn as nn"
   ]
  },
  {
   "cell_type": "code",
   "execution_count": 22,
   "metadata": {
    "scrolled": false
   },
   "outputs": [
    {
     "name": "stdout",
     "output_type": "stream",
     "text": [
      "cuda:0\n"
     ]
    }
   ],
   "source": [
    "######################################################################\n",
    "####################  DEVICE CONFIGURATION  ##########################\n",
    "######################################################################\n",
    "device = torch.device(\"cuda:0\" if torch.cuda.is_available() else 'cpu')\n",
    "print(device)"
   ]
  },
  {
   "cell_type": "code",
   "execution_count": 23,
   "metadata": {},
   "outputs": [],
   "source": [
    "######################################################################\n",
    "###############   DEFINING THE HYPERPARAMETERS  ######################\n",
    "######################################################################\n",
    "\n",
    "batch_size = 100\n",
    "input_size = 784\n",
    "hidden_size = 400\n",
    "num_classes = 10\n",
    "learning_rate = 0.001\n",
    "num_epochs = 10\n"
   ]
  },
  {
   "cell_type": "code",
   "execution_count": 24,
   "metadata": {},
   "outputs": [],
   "source": [
    "######################################################################\n",
    "###############  DATASET LOADING ( MNIST DATASET)  ###################\n",
    "######################################################################\n",
    "\n",
    "# Downloading the Dataset\n",
    "train_dataset = torchvision.datasets.MNIST(root = './data', train = True, transform = transforms.ToTensor(), download = True)\n",
    "test_dataset = torchvision.datasets.MNIST(root = './data', train = False, transform = transforms.ToTensor())\n",
    "\n",
    "# DataLoader ( Forms mini_batches for SGD )\n",
    "train_loader = torch.utils.data.DataLoader(dataset = train_dataset, batch_size = batch_size, shuffle = True)\n",
    "test_loader = torch.utils.data.DataLoader(dataset = test_dataset, batch_size = batch_size, shuffle = False)\n"
   ]
  },
  {
   "cell_type": "code",
   "execution_count": 25,
   "metadata": {
    "scrolled": true
   },
   "outputs": [],
   "source": [
    "######################################################################\n",
    "###############  DEFINING THE MODULAR NEURAL NETWORK  ################\n",
    "######################################################################\n",
    "\n",
    "class Neural_Network(nn.Module):\n",
    "    \n",
    "    # THE NECESSARY INIT METHOD.\n",
    "    def __init__(self, input_size, hidden_size, num_classes):\n",
    "        super(Neural_Network, self).__init__()\n",
    "        self.fc1 = nn.Linear(input_size, hidden_size)\n",
    "        self.relu = nn.ReLU()\n",
    "        self.fc2 = nn.Linear(hidden_size, num_classes)\n",
    "    \n",
    "    # THE METHOD FOR FORWARD PASS\n",
    "    def forward(self,x):\n",
    "        out = self.fc1(x)\n",
    "        out = self.relu(out)\n",
    "        out = self.fc2(out)\n",
    "        return(out)\n",
    "    \n",
    "model = Neural_Network(input_size,hidden_size,num_classes).to(device)"
   ]
  },
  {
   "cell_type": "code",
   "execution_count": 26,
   "metadata": {},
   "outputs": [],
   "source": [
    "######################################################################\n",
    "###########  DEFINING THE LOSS CRITERION AND OPTIMIZER  ##############\n",
    "######################################################################\n",
    "\n",
    "criterion = nn.CrossEntropyLoss()\n",
    "optimizer = torch.optim.Adam(model.parameters(), lr = learning_rate)"
   ]
  },
  {
   "cell_type": "code",
   "execution_count": 27,
   "metadata": {
    "scrolled": true
   },
   "outputs": [
    {
     "name": "stdout",
     "output_type": "stream",
     "text": [
      "Epochs: [2\\10], Loss: 0.0885\n",
      "Accuracy of the network on the 60000 training images: 96.375 %\n",
      "Epochs: [4\\10], Loss: 0.1087\n",
      "Accuracy of the network on the 60000 training images: 98.225 %\n",
      "Epochs: [6\\10], Loss: 0.0534\n",
      "Accuracy of the network on the 60000 training images: 98.97833333333334 %\n",
      "Epochs: [8\\10], Loss: 0.0460\n",
      "Accuracy of the network on the 60000 training images: 99.48166666666667 %\n",
      "Epochs: [10\\10], Loss: 0.0177\n",
      "Accuracy of the network on the 60000 training images: 99.685 %\n"
     ]
    }
   ],
   "source": [
    "######################################################################\n",
    "########################  THE TRAINING LOOP  #########################\n",
    "######################################################################\n",
    "\n",
    "for epoch in range(num_epochs):\n",
    "    total = 0\n",
    "    correct = 0\n",
    "    for i,(images,labels) in enumerate(train_loader):\n",
    "        # ADJUSTING THE SIZE OF INPUT IMAGES AND READING THE MINI_BATCH\n",
    "        images = images.reshape(-1,28*28).to(device)\n",
    "        labels = labels.to(device)\n",
    "        \n",
    "        # FORWARD PASS\n",
    "        outputs = model(images)\n",
    "        loss = criterion(outputs,labels)\n",
    "        _,predicted = torch.max(outputs.data,1)\n",
    "        total += labels.size(0)\n",
    "        correct += (predicted == labels).sum().item()\n",
    "        \n",
    "        # BACKPROPAGATION\n",
    "        optimizer.zero_grad()\n",
    "        loss.backward()\n",
    "        optimizer.step()\n",
    "        \n",
    "    if (epoch+1)%2 == 0:\n",
    "        print(\"Epochs: [{}\\{}], Loss: {:.4f}\".format(epoch+1, num_epochs, loss.item()))\n",
    "        print('Accuracy of the network on the 60000 training images: {} %'.format(100*correct/total))    "
   ]
  },
  {
   "cell_type": "code",
   "execution_count": 28,
   "metadata": {},
   "outputs": [
    {
     "name": "stdout",
     "output_type": "stream",
     "text": [
      "Accuracy of the network on the 10000 test images: 9.93 %\n"
     ]
    }
   ],
   "source": [
    "######################################################################\n",
    "########################  THE TRAINING LOOP  #########################\n",
    "######################################################################\n",
    "with torch.no_grad():\n",
    "    correct = 0\n",
    "    total = 0\n",
    "    for images,labels in test_loader:\n",
    "        images = images.reshape(-1,784).to(device)\n",
    "        labels = labels.to(device)\n",
    "        \n",
    "        output = model(images)\n",
    "        _,predicted = torch.max(outputs.data,1)\n",
    "        total += labels.size(0)\n",
    "        correct += (predicted == labels).sum().item()\n",
    "        \n",
    "    print('Accuracy of the network on the 10000 test images: {} %'.format(100*correct/total))\n",
    "    "
   ]
  },
  {
   "cell_type": "code",
   "execution_count": null,
   "metadata": {},
   "outputs": [],
   "source": []
  }
 ],
 "metadata": {
  "kernelspec": {
   "display_name": "Python 3",
   "language": "python",
   "name": "python3"
  },
  "language_info": {
   "codemirror_mode": {
    "name": "ipython",
    "version": 3
   },
   "file_extension": ".py",
   "mimetype": "text/x-python",
   "name": "python",
   "nbconvert_exporter": "python",
   "pygments_lexer": "ipython3",
   "version": "3.7.1"
  }
 },
 "nbformat": 4,
 "nbformat_minor": 2
}
