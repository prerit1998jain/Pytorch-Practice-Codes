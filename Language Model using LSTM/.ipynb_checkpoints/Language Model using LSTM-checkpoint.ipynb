{
 "cells": [
  {
   "cell_type": "code",
   "execution_count": 1,
   "metadata": {},
   "outputs": [],
   "source": [
    "######################################################################\n",
    "###############   IMPORTING THE NECESSARY PACKAGES  ##################\n",
    "######################################################################\n",
    "\n",
    "import torch\n",
    "import torch.nn as nn\n",
    "import numpy as np\n",
    "import os\n",
    "\n",
    "# clip_grad_norm_ is used for truncated backpropagation\n",
    "from torch.nn.utils import clip_grad_norm_\n"
   ]
  },
  {
   "cell_type": "code",
   "execution_count": 2,
   "metadata": {},
   "outputs": [
    {
     "name": "stdout",
     "output_type": "stream",
     "text": [
      "cuda\n"
     ]
    }
   ],
   "source": [
    "######################################################################\n",
    "##################   DEVICE CONFIGURATION ############################\n",
    "######################################################################\n",
    "\n",
    "device = torch.device('cuda' if torch.cuda.is_available() else 'cpu')\n",
    "print(device)"
   ]
  },
  {
   "cell_type": "code",
   "execution_count": 3,
   "metadata": {},
   "outputs": [],
   "source": [
    "######################################################################\n",
    "############ DEFINING THE DICTIIONARY AND CORPUS CLASSES #############\n",
    "######################################################################\n",
    "\n",
    "class Dictionary(object):\n",
    "    \n",
    "    def __init__(self):\n",
    "        # Two dictionaries maintained\n",
    "        # For finding the index of a given word - word2idx\n",
    "        self.word2idx = {}\n",
    "        # For finding the word given an index - idx2word\n",
    "        self.idx2word = {}\n",
    "        self.idx = 0\n",
    "    \n",
    "    # Method for adding a new word into an instance of the Dictionary class.\n",
    "    def add_word(self, word):\n",
    "        if not word in self.word2idx:\n",
    "            self.word2idx[word] = self.idx\n",
    "            self.idx2word[self.idx] = word\n",
    "            self.idx += 1\n",
    "            \n",
    "    # method will return the vocabulary size.\n",
    "    def __len__(self):\n",
    "        return(len(self.word2idx))\n",
    "    \n",
    "class Corpus(object):\n",
    "    def __init__(self):\n",
    "        self.Dictionary = Dictionary()\n",
    "        \n",
    "    def get_data(self,path, batch_size=20):\n",
    "        # Add word to the dictionary\n",
    "        with open(path,'r') as f:\n",
    "            tokens = 0\n",
    "            for line in f:\n",
    "                words = line.split() + ['<eos>']\n",
    "                tokens += len(words)\n",
    "                for word in words:\n",
    "                    self.Dictionary.add_word(word)\n",
    "        \n",
    "        \n",
    "        # Tokenize the file content\n",
    "        ids = torch.LongTensor(tokens)\n",
    "        token = 0\n",
    "        with open(path, 'r') as f:\n",
    "            for line in f:\n",
    "                words = line.split() + ['<eos>']\n",
    "                for word in words:\n",
    "                    ids[token] = self.Dictionary.word2idx[word]\n",
    "                    token += 1 \n",
    "        num_batches = ids.size(0) // batch_size\n",
    "        ids = ids[:num_batches*(batch_size)]\n",
    "        return(ids.view(batch_size, -1))\n",
    "    "
   ]
  },
  {
   "cell_type": "code",
   "execution_count": 4,
   "metadata": {},
   "outputs": [],
   "source": [
    "######################################################################\n",
    "##################  HYPTERPARAMETER DEFINITION #######################\n",
    "######################################################################\n",
    "\n",
    "batch_size = 20\n",
    "embed_size = 128\n",
    "hidden_size = 1024\n",
    "num_layers = 1\n",
    "num_epochs = 2\n",
    "num_samples = 1000\n",
    "seq_length = 30\n",
    "learning_rate = 0.002\n"
   ]
  },
  {
   "cell_type": "code",
   "execution_count": 5,
   "metadata": {},
   "outputs": [],
   "source": [
    "######################################################################\n",
    "##############  LOADING THE PENN TREEBANK DATASET ####################\n",
    "######################################################################\n",
    "\n",
    "path = 'data/train.txt'\n",
    "corpus = Corpus()\n",
    "idxs = corpus.get_data(path, batch_size)\n",
    "vocab_size = len(corpus.Dictionary)\n",
    "num_batches = idxs.size(1) // seq_length"
   ]
  },
  {
   "cell_type": "code",
   "execution_count": 6,
   "metadata": {},
   "outputs": [],
   "source": [
    "######################################################################\n",
    "##############  DEFINING RNN BASED LANGUAGE MODEL ####################\n",
    "######################################################################\n",
    "\n",
    "class RNNLM(nn.Module):\n",
    "    def __init__(self, vocab_size, embed_size, hidden_size, num_layers):\n",
    "        super(RNNLM, self).__init__()\n",
    "        # Converting the one-hot encodings into the embeddings.\n",
    "        self.embeddings = nn.Embedding(vocab_size, embed_size)\n",
    "        # Defining the computational graph for the Network.\n",
    "        self.LSTM = nn.LSTM(embed_size, hidden_size, num_layers, batch_first = True)\n",
    "        # Fully connected layer from the hidden to the vocabulary size.\n",
    "        self.out = nn.Linear(hidden_size, vocab_size)\n",
    "        \n",
    "    def forward(self, x, h):\n",
    "        \n",
    "        # Taking word indices to embeddings\n",
    "        x = self.embeddings(x)\n",
    "        \n",
    "        # Forward propagate LSTM\n",
    "        out, (h,c) = self.LSTM(x, h)\n",
    "        \n",
    "        # Reshaping the output in desired shape (batch_size*sequence_length, hidden_size)\n",
    "        out = out.reshape(out.size(0)*out.size(1), out.size(2))\n",
    "        \n",
    "        # Decoding to the final vocabulary size to get the word\n",
    "        out = self.out(out)\n",
    "        \n",
    "        return(out, (h,c))\n",
    "    \n",
    "Lang_Model = RNNLM(vocab_size, embed_size, hidden_size, num_layers).to(device)"
   ]
  },
  {
   "cell_type": "code",
   "execution_count": 7,
   "metadata": {},
   "outputs": [],
   "source": [
    "######################################################################\n",
    "#######################  LOSS AND OPTIMIZER ##########################\n",
    "######################################################################\n",
    "\n",
    "criterion = nn.CrossEntropyLoss()\n",
    "optimizer = torch.optim.Adam(Lang_Model.parameters(), lr = learning_rate)"
   ]
  },
  {
   "cell_type": "code",
   "execution_count": 8,
   "metadata": {},
   "outputs": [],
   "source": [
    "######################################################################\n",
    "#################### TRUNCATED BACKPROPAGATION #######################\n",
    "######################################################################\n",
    "\n",
    "def detach(states):\n",
    "    return [state.detach() for state in states]"
   ]
  },
  {
   "cell_type": "code",
   "execution_count": 9,
   "metadata": {
    "scrolled": false
   },
   "outputs": [
    {
     "name": "stdout",
     "output_type": "stream",
     "text": [
      "Epoch: [1/2], Step: [0/1549], Loss: 9.2109, Perplexity: 10005.33\n",
      "Epoch: [1/2], Step: [100/1549], Loss: 5.9969, Perplexity: 402.18\n",
      "Epoch: [1/2], Step: [200/1549], Loss: 5.9242, Perplexity: 373.96\n",
      "Epoch: [1/2], Step: [300/1549], Loss: 5.7676, Perplexity: 319.76\n",
      "Epoch: [1/2], Step: [400/1549], Loss: 5.6344, Perplexity: 279.89\n",
      "Epoch: [1/2], Step: [500/1549], Loss: 5.1213, Perplexity: 167.56\n",
      "Epoch: [1/2], Step: [600/1549], Loss: 5.1859, Perplexity: 178.73\n",
      "Epoch: [1/2], Step: [700/1549], Loss: 5.3598, Perplexity: 212.68\n",
      "Epoch: [1/2], Step: [800/1549], Loss: 5.1754, Perplexity: 176.87\n",
      "Epoch: [1/2], Step: [900/1549], Loss: 5.0794, Perplexity: 160.67\n",
      "Epoch: [1/2], Step: [1000/1549], Loss: 5.1306, Perplexity: 169.13\n",
      "Epoch: [1/2], Step: [1100/1549], Loss: 5.3766, Perplexity: 216.28\n",
      "Epoch: [1/2], Step: [1200/1549], Loss: 5.1789, Perplexity: 177.49\n",
      "Epoch: [1/2], Step: [1300/1549], Loss: 5.0874, Perplexity: 161.96\n",
      "Epoch: [1/2], Step: [1400/1549], Loss: 4.8382, Perplexity: 126.24\n",
      "Epoch: [1/2], Step: [1500/1549], Loss: 5.1526, Perplexity: 172.88\n",
      "Epoch: [2/2], Step: [0/1549], Loss: 5.4111, Perplexity: 223.88\n",
      "Epoch: [2/2], Step: [100/1549], Loss: 4.5999, Perplexity: 99.48\n",
      "Epoch: [2/2], Step: [200/1549], Loss: 4.6607, Perplexity: 105.71\n",
      "Epoch: [2/2], Step: [300/1549], Loss: 4.7126, Perplexity: 111.34\n",
      "Epoch: [2/2], Step: [400/1549], Loss: 4.5387, Perplexity: 93.57\n",
      "Epoch: [2/2], Step: [500/1549], Loss: 4.1462, Perplexity: 63.20\n",
      "Epoch: [2/2], Step: [600/1549], Loss: 4.4506, Perplexity: 85.68\n",
      "Epoch: [2/2], Step: [700/1549], Loss: 4.4109, Perplexity: 82.34\n",
      "Epoch: [2/2], Step: [800/1549], Loss: 4.4184, Perplexity: 82.96\n",
      "Epoch: [2/2], Step: [900/1549], Loss: 4.1812, Perplexity: 65.45\n",
      "Epoch: [2/2], Step: [1000/1549], Loss: 4.3545, Perplexity: 77.83\n",
      "Epoch: [2/2], Step: [1100/1549], Loss: 4.5619, Perplexity: 95.77\n",
      "Epoch: [2/2], Step: [1200/1549], Loss: 4.4591, Perplexity: 86.41\n",
      "Epoch: [2/2], Step: [1300/1549], Loss: 4.2322, Perplexity: 68.87\n",
      "Epoch: [2/2], Step: [1400/1549], Loss: 3.9461, Perplexity: 51.73\n",
      "Epoch: [2/2], Step: [1500/1549], Loss: 4.3238, Perplexity: 75.47\n"
     ]
    }
   ],
   "source": [
    "######################################################################\n",
    "####################### TRAINING THE MODEL ###########################\n",
    "######################################################################\n",
    "\n",
    "for epoch in range(num_epochs):\n",
    "    # Set initial hidden and cell states\n",
    "    states = (torch.zeros(num_layers, batch_size, hidden_size).to(device), torch.zeros(num_layers, batch_size, hidden_size).to(device))\n",
    "    \n",
    "    for i in range(0, idxs.size(1) - seq_length, seq_length):\n",
    "        # Get mini-batch inputs and targets\n",
    "        inputs = idxs[:, i:i+seq_length].to(device)\n",
    "        targets = idxs[:, (i+1):(i+1)+seq_length].to(device)\n",
    "        \n",
    "        # Forward Pass \n",
    "        states = detach(states)\n",
    "        outputs, states = Lang_Model(inputs, states)\n",
    "        loss = criterion(outputs, targets.reshape(-1))\n",
    "        \n",
    "        # Backpropagation \n",
    "        Lang_Model.zero_grad()\n",
    "        loss.backward()\n",
    "        clip_grad_norm_(Lang_Model.parameters(), 0.5)\n",
    "        optimizer.step()\n",
    "        \n",
    "        step = (i+1) // seq_length\n",
    "        if step % 100 == 0:\n",
    "            print('Epoch: [{}/{}], Step: [{}/{}], Loss: {:.4f}, Perplexity: {:5.2f}'.format(epoch+1,num_epochs, step, num_batches, loss.item(), np.exp(loss.item())))\n",
    "        "
   ]
  },
  {
   "cell_type": "code",
   "execution_count": 15,
   "metadata": {},
   "outputs": [
    {
     "name": "stdout",
     "output_type": "stream",
     "text": [
      "Sampled [100\\1000] words and save to sample.txt\n",
      "Sampled [200\\1000] words and save to sample.txt\n",
      "Sampled [300\\1000] words and save to sample.txt\n",
      "Sampled [400\\1000] words and save to sample.txt\n",
      "Sampled [500\\1000] words and save to sample.txt\n",
      "Sampled [600\\1000] words and save to sample.txt\n",
      "Sampled [700\\1000] words and save to sample.txt\n",
      "Sampled [800\\1000] words and save to sample.txt\n",
      "Sampled [900\\1000] words and save to sample.txt\n",
      "Sampled [1000\\1000] words and save to sample.txt\n"
     ]
    }
   ],
   "source": [
    "######################################################################\n",
    "####################### TEST SET VALIDATION ##########################\n",
    "######################################################################\n",
    "\n",
    "with torch.no_grad():\n",
    "    with open('sample.txt', 'w') as f:\n",
    "        # Set inital hidden and cell states\n",
    "        state = (torch.zeros(num_layers, 1, hidden_size).to(device), torch.zeros(num_layers, 1, hidden_size).to(device))\n",
    "        \n",
    "        # Select one word id randomly\n",
    "        prob = torch.ones(vocab_size)\n",
    "        input = torch.multinomial(prob, num_samples = 1).unsqueeze(1).to(device)\n",
    "        \n",
    "        for i in range(num_samples):\n",
    "            # Forward Propagation\n",
    "            output, state = Lang_Model(input, state)\n",
    "            \n",
    "            # Sample a word id\n",
    "            prob = output.exp()\n",
    "            word_id = torch.multinomial(prob, num_samples = 1).item()\n",
    "            \n",
    "            # Fill input with samples word id for the next time step \n",
    "            input.fill_(word_id)\n",
    "            \n",
    "            # File Write\n",
    "            word = corpus.Dictionary.idx2word[word_id]\n",
    "            word = '\\n' if word == '<eos>' else word + ' '\n",
    "            f.write(word)\n",
    "            \n",
    "            if (i+1)%100 == 0:\n",
    "                print('Sampled [{}\\{}] words and save to {}'.format(i+1, num_samples, 'sample.txt'))\n",
    "            \n",
    "            "
   ]
  },
  {
   "cell_type": "code",
   "execution_count": null,
   "metadata": {},
   "outputs": [],
   "source": [
    "# Save the model checkpoints\n",
    "torch.save(model.state_dict(), 'model.ckpt')"
   ]
  }
 ],
 "metadata": {
  "kernelspec": {
   "display_name": "Python 3",
   "language": "python",
   "name": "python3"
  },
  "language_info": {
   "codemirror_mode": {
    "name": "ipython",
    "version": 3
   },
   "file_extension": ".py",
   "mimetype": "text/x-python",
   "name": "python",
   "nbconvert_exporter": "python",
   "pygments_lexer": "ipython3",
   "version": "3.6.8"
  }
 },
 "nbformat": 4,
 "nbformat_minor": 2
}
