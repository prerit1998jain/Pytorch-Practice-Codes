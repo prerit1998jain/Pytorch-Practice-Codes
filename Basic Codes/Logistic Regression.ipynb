{
 "cells": [
  {
   "cell_type": "code",
   "execution_count": 1,
   "metadata": {},
   "outputs": [],
   "source": [
    "# Importing the libraries \n",
    "import torch\n",
    "import torchvision\n",
    "import torch.nn as nn\n",
    "import torchvision.transforms as transforms\n",
    "import matplotlib.pyplot as plt"
   ]
  },
  {
   "cell_type": "code",
   "execution_count": 2,
   "metadata": {},
   "outputs": [],
   "source": [
    "# Hyoerparameters \n",
    "num_iter = 20\n",
    "input_size = 784\n",
    "num_classes = 10\n",
    "batch_size = 100\n"
   ]
  },
  {
   "cell_type": "code",
   "execution_count": 3,
   "metadata": {},
   "outputs": [],
   "source": [
    "# Downloading the dataset \n",
    "training_set = torchvision.datasets.MNIST(root = 'data/', train = True, transform = transforms.ToTensor(), download = True)\n",
    "test_set = torchvision.datasets.MNIST(root = 'data/', train = False, transform = transforms.ToTensor(), download = True)"
   ]
  },
  {
   "cell_type": "code",
   "execution_count": 4,
   "metadata": {},
   "outputs": [
    {
     "name": "stdout",
     "output_type": "stream",
     "text": [
      "torch.Size([100, 1, 28, 28])\n"
     ]
    }
   ],
   "source": [
    "# DATA LOADER ( Input Pipeline )\n",
    "train_loader = torch.utils.data.DataLoader(dataset = training_set, batch_size = batch_size, shuffle = True)\n",
    "test_loader = torch.utils.data.DataLoader(dataset = test_set, batch_size = batch_size, shuffle = False)\n",
    "\n",
    "data_iter = iter(train_loader)\n",
    "print(data_iter.next()[0].shape)"
   ]
  },
  {
   "cell_type": "code",
   "execution_count": 5,
   "metadata": {},
   "outputs": [],
   "source": [
    "## Model, Loss Criterion and Optimization algorithm Definition\n",
    "model = nn.Linear(input_size, num_classes)\n",
    "criterion = nn.CrossEntropyLoss()\n",
    "optimizer = torch.optim.SGD(model.parameters(), lr = 0.000001)"
   ]
  },
  {
   "cell_type": "code",
   "execution_count": 11,
   "metadata": {},
   "outputs": [
    {
     "name": "stdout",
     "output_type": "stream",
     "text": [
      "Epoch [1/20], Step [600/600], Loss: 2.2649, accuracy = 0\n",
      "Epoch [2/20], Step [600/600], Loss: 2.2710, accuracy = 0\n",
      "Epoch [3/20], Step [600/600], Loss: 2.2674, accuracy = 0\n",
      "Epoch [4/20], Step [600/600], Loss: 2.3028, accuracy = 0\n",
      "Epoch [5/20], Step [600/600], Loss: 2.2449, accuracy = 0\n",
      "Epoch [6/20], Step [600/600], Loss: 2.2897, accuracy = 0\n",
      "Epoch [7/20], Step [600/600], Loss: 2.3031, accuracy = 0\n",
      "Epoch [8/20], Step [600/600], Loss: 2.2726, accuracy = 0\n",
      "Epoch [9/20], Step [600/600], Loss: 2.2817, accuracy = 0\n",
      "Epoch [10/20], Step [600/600], Loss: 2.2530, accuracy = 0\n",
      "Epoch [11/20], Step [600/600], Loss: 2.2760, accuracy = 0\n",
      "Epoch [12/20], Step [600/600], Loss: 2.2496, accuracy = 0\n",
      "Epoch [13/20], Step [600/600], Loss: 2.2635, accuracy = 0\n",
      "Epoch [14/20], Step [600/600], Loss: 2.2391, accuracy = 0\n",
      "Epoch [15/20], Step [600/600], Loss: 2.2935, accuracy = 0\n",
      "Epoch [16/20], Step [600/600], Loss: 2.2571, accuracy = 0\n",
      "Epoch [17/20], Step [600/600], Loss: 2.2735, accuracy = 0\n",
      "Epoch [18/20], Step [600/600], Loss: 2.2580, accuracy = 0\n",
      "Epoch [19/20], Step [600/600], Loss: 2.2568, accuracy = 0\n",
      "Epoch [20/20], Step [600/600], Loss: 2.3071, accuracy = 0\n"
     ]
    }
   ],
   "source": [
    "total_step = len(train_loader)\n",
    "train_loss = []\n",
    "total = 0\n",
    "for epoch in range(num_iter):\n",
    "    for i, (images, labels) in enumerate(train_loader):\n",
    "        # Reshape images to (batch_size, input_size)\n",
    "        images = images.reshape(-1, 28*28)\n",
    "        \n",
    "        # Forward pass\n",
    "        outputs = model(images)\n",
    "        loss = criterion(outputs, labels)\n",
    "\n",
    "        \n",
    "        # Backward and optimize\n",
    "        optimizer.zero_grad()\n",
    "        loss.backward()\n",
    "        optimizer.step()\n",
    "        total += batch_size\n",
    "        _,predicted = torch.max(outputs.data,1)\n",
    "        correct += (predicted == labels).sum() \n",
    "        \n",
    "        if (i+1) % 600 == 0:\n",
    "            print ('Epoch [{}/{}], Step [{}/{}], Loss: {:.4f}, accuracy = {}' \n",
    "                   .format(epoch+1, num_iter, i+1, total_step, loss.item(),correct/total))\n",
    "            train_loss.append(loss)\n"
   ]
  },
  {
   "cell_type": "code",
   "execution_count": null,
   "metadata": {},
   "outputs": [],
   "source": [
    "train_loss_lr_00001 = train_loss\n",
    "plt.plot(train_loss)"
   ]
  },
  {
   "cell_type": "code",
   "execution_count": null,
   "metadata": {},
   "outputs": [],
   "source": [
    "train_loss_lr_001 = train_loss"
   ]
  },
  {
   "cell_type": "code",
   "execution_count": null,
   "metadata": {},
   "outputs": [],
   "source": [
    "plt.plot(train_loss_lr_001, color = 'b')\n",
    "plt.plot(train_loss_lr_1, color = 'r')\n",
    "plt.plot(train_loss_lr_00001, color = 'g')"
   ]
  },
  {
   "cell_type": "code",
   "execution_count": null,
   "metadata": {},
   "outputs": [],
   "source": []
  }
 ],
 "metadata": {
  "kernelspec": {
   "display_name": "Python 3",
   "language": "python",
   "name": "python3"
  },
  "language_info": {
   "codemirror_mode": {
    "name": "ipython",
    "version": 3
   },
   "file_extension": ".py",
   "mimetype": "text/x-python",
   "name": "python",
   "nbconvert_exporter": "python",
   "pygments_lexer": "ipython3",
   "version": "3.7.1"
  }
 },
 "nbformat": 4,
 "nbformat_minor": 2
}
