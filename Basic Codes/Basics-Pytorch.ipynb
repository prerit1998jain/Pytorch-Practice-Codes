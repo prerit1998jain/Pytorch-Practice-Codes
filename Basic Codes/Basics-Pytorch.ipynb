{
 "cells": [
  {
   "cell_type": "code",
   "execution_count": 23,
   "metadata": {},
   "outputs": [],
   "source": [
    "import torch\n",
    "import torch.nn as nn\n",
    "import torchvision\n",
    "import numpy as np\n",
    "import torchvision.transforms as transforms\n",
    "import matplotlib.pyplot as plt"
   ]
  },
  {
   "cell_type": "code",
   "execution_count": 24,
   "metadata": {},
   "outputs": [],
   "source": [
    "## Creating Tensors\n",
    "x = torch.tensor(1.,requires_grad = True)\n",
    "w = torch.tensor(2.,requires_grad = True)\n",
    "b = torch.tensor(3.,requires_grad = True)"
   ]
  },
  {
   "cell_type": "code",
   "execution_count": 25,
   "metadata": {},
   "outputs": [
    {
     "name": "stdout",
     "output_type": "stream",
     "text": [
      "tensor(1., requires_grad=True) tensor(2., requires_grad=True) tensor(3., requires_grad=True)\n"
     ]
    }
   ],
   "source": [
    "print(x,w,b)"
   ]
  },
  {
   "cell_type": "code",
   "execution_count": 26,
   "metadata": {},
   "outputs": [],
   "source": [
    "y = w*x + b"
   ]
  },
  {
   "cell_type": "code",
   "execution_count": 27,
   "metadata": {},
   "outputs": [],
   "source": [
    "y.backward()"
   ]
  },
  {
   "cell_type": "code",
   "execution_count": null,
   "metadata": {},
   "outputs": [],
   "source": [
    "print(w.grad)\n",
    "print(x.grad)\n",
    "print(b.grad)"
   ]
  },
  {
   "cell_type": "code",
   "execution_count": 2,
   "metadata": {},
   "outputs": [],
   "source": [
    "#####################################################################\n",
    "############## Defining a fully Connected Network ###################\n",
    "#####################################################################"
   ]
  },
  {
   "cell_type": "code",
   "execution_count": 12,
   "metadata": {},
   "outputs": [],
   "source": [
    "# Creating a tensor of shape (10,3) and (10,2)\n",
    "x = torch.randn(10,3)\n",
    "y = torch.randn(10,2)"
   ]
  },
  {
   "cell_type": "code",
   "execution_count": 13,
   "metadata": {},
   "outputs": [
    {
     "name": "stdout",
     "output_type": "stream",
     "text": [
      "w:  Parameter containing:\n",
      "tensor([[ 0.5704, -0.0642, -0.2522],\n",
      "        [ 0.1124, -0.1073,  0.1275]], requires_grad=True)\n",
      "b:  Parameter containing:\n",
      "tensor([ 0.0076, -0.1206], requires_grad=True)\n"
     ]
    }
   ],
   "source": [
    "# Build a fully connected layer\n",
    "linear = nn.Linear(3,2)\n",
    "print('w: ', linear.weight)\n",
    "print('b: ', linear.bias)"
   ]
  },
  {
   "cell_type": "code",
   "execution_count": 14,
   "metadata": {},
   "outputs": [],
   "source": [
    "# Build a loss function and optimizer\n",
    "criterion = nn.MSELoss()\n",
    "optimizer = torch.optim.SGD(linear.parameters(), lr = 0.001)"
   ]
  },
  {
   "cell_type": "code",
   "execution_count": 15,
   "metadata": {},
   "outputs": [
    {
     "name": "stdout",
     "output_type": "stream",
     "text": [
      "loss: 1.08211088180542\n"
     ]
    }
   ],
   "source": [
    "# Forward Pass\n",
    "pred = linear(x)\n",
    "loss = criterion(pred,y)\n",
    "print(\"loss:\", loss.item())"
   ]
  },
  {
   "cell_type": "code",
   "execution_count": 16,
   "metadata": {},
   "outputs": [],
   "source": [
    "# Backward Pass\n",
    "loss.backward()"
   ]
  },
  {
   "cell_type": "code",
   "execution_count": 17,
   "metadata": {},
   "outputs": [
    {
     "name": "stdout",
     "output_type": "stream",
     "text": [
      "dL/dw: tensor([[ 0.7249, -0.4809,  0.0607],\n",
      "        [ 0.2747, -0.0633,  0.0800]])\n",
      "dL/db: tensor([-0.7202, -0.3034])\n"
     ]
    }
   ],
   "source": [
    "print(\"dL/dw:\",linear.weight.grad)\n",
    "print(\"dL/db:\", linear.bias.grad)"
   ]
  },
  {
   "cell_type": "code",
   "execution_count": 18,
   "metadata": {},
   "outputs": [
    {
     "name": "stdout",
     "output_type": "stream",
     "text": [
      "values of w before updation \n",
      " Parameter containing:\n",
      "tensor([[ 0.5704, -0.0642, -0.2522],\n",
      "        [ 0.1124, -0.1073,  0.1275]], requires_grad=True)\n",
      "values pf w after updation \n",
      " Parameter containing:\n",
      "tensor([[ 0.5697, -0.0638, -0.2523],\n",
      "        [ 0.1122, -0.1073,  0.1274]], requires_grad=True)\n"
     ]
    }
   ],
   "source": [
    "print(\"values of w before updation \\n\", linear.weight)\n",
    "optimizer.step()\n",
    "print(\"values pf w after updation \\n\", linear.weight)"
   ]
  },
  {
   "cell_type": "code",
   "execution_count": 19,
   "metadata": {},
   "outputs": [
    {
     "name": "stdout",
     "output_type": "stream",
     "text": [
      "The value of LOSS after iteration 0 is tensor(1.0807, grad_fn=<MseLossBackward>) \n",
      "\n",
      "The value of LOSS after iteration 1 is tensor(1.0778, grad_fn=<MseLossBackward>) \n",
      "\n",
      "The value of LOSS after iteration 2 is tensor(1.0734, grad_fn=<MseLossBackward>) \n",
      "\n",
      "The value of LOSS after iteration 3 is tensor(1.0677, grad_fn=<MseLossBackward>) \n",
      "\n",
      "The value of LOSS after iteration 4 is tensor(1.0606, grad_fn=<MseLossBackward>) \n",
      "\n",
      "The value of LOSS after iteration 5 is tensor(1.0521, grad_fn=<MseLossBackward>) \n",
      "\n",
      "The value of LOSS after iteration 6 is tensor(1.0424, grad_fn=<MseLossBackward>) \n",
      "\n",
      "The value of LOSS after iteration 7 is tensor(1.0315, grad_fn=<MseLossBackward>) \n",
      "\n",
      "The value of LOSS after iteration 8 is tensor(1.0195, grad_fn=<MseLossBackward>) \n",
      "\n",
      "The value of LOSS after iteration 9 is tensor(1.0063, grad_fn=<MseLossBackward>) \n",
      "\n",
      "The value of LOSS after iteration 10 is tensor(0.9922, grad_fn=<MseLossBackward>) \n",
      "\n",
      "The value of LOSS after iteration 11 is tensor(0.9771, grad_fn=<MseLossBackward>) \n",
      "\n",
      "The value of LOSS after iteration 12 is tensor(0.9612, grad_fn=<MseLossBackward>) \n",
      "\n",
      "The value of LOSS after iteration 13 is tensor(0.9446, grad_fn=<MseLossBackward>) \n",
      "\n",
      "The value of LOSS after iteration 14 is tensor(0.9274, grad_fn=<MseLossBackward>) \n",
      "\n",
      "The value of LOSS after iteration 15 is tensor(0.9096, grad_fn=<MseLossBackward>) \n",
      "\n",
      "The value of LOSS after iteration 16 is tensor(0.8915, grad_fn=<MseLossBackward>) \n",
      "\n",
      "The value of LOSS after iteration 17 is tensor(0.8730, grad_fn=<MseLossBackward>) \n",
      "\n",
      "The value of LOSS after iteration 18 is tensor(0.8543, grad_fn=<MseLossBackward>) \n",
      "\n",
      "The value of LOSS after iteration 19 is tensor(0.8355, grad_fn=<MseLossBackward>) \n",
      "\n",
      "The value of LOSS after iteration 20 is tensor(0.8167, grad_fn=<MseLossBackward>) \n",
      "\n",
      "The value of LOSS after iteration 21 is tensor(0.7981, grad_fn=<MseLossBackward>) \n",
      "\n",
      "The value of LOSS after iteration 22 is tensor(0.7797, grad_fn=<MseLossBackward>) \n",
      "\n",
      "The value of LOSS after iteration 23 is tensor(0.7616, grad_fn=<MseLossBackward>) \n",
      "\n",
      "The value of LOSS after iteration 24 is tensor(0.7440, grad_fn=<MseLossBackward>) \n",
      "\n",
      "The value of LOSS after iteration 25 is tensor(0.7269, grad_fn=<MseLossBackward>) \n",
      "\n",
      "The value of LOSS after iteration 26 is tensor(0.7105, grad_fn=<MseLossBackward>) \n",
      "\n",
      "The value of LOSS after iteration 27 is tensor(0.6947, grad_fn=<MseLossBackward>) \n",
      "\n",
      "The value of LOSS after iteration 28 is tensor(0.6799, grad_fn=<MseLossBackward>) \n",
      "\n",
      "The value of LOSS after iteration 29 is tensor(0.6659, grad_fn=<MseLossBackward>) \n",
      "\n",
      "The value of LOSS after iteration 30 is tensor(0.6528, grad_fn=<MseLossBackward>) \n",
      "\n",
      "The value of LOSS after iteration 31 is tensor(0.6408, grad_fn=<MseLossBackward>) \n",
      "\n",
      "The value of LOSS after iteration 32 is tensor(0.6300, grad_fn=<MseLossBackward>) \n",
      "\n",
      "The value of LOSS after iteration 33 is tensor(0.6202, grad_fn=<MseLossBackward>) \n",
      "\n",
      "The value of LOSS after iteration 34 is tensor(0.6117, grad_fn=<MseLossBackward>) \n",
      "\n",
      "The value of LOSS after iteration 35 is tensor(0.6044, grad_fn=<MseLossBackward>) \n",
      "\n",
      "The value of LOSS after iteration 36 is tensor(0.5984, grad_fn=<MseLossBackward>) \n",
      "\n",
      "The value of LOSS after iteration 37 is tensor(0.5936, grad_fn=<MseLossBackward>) \n",
      "\n",
      "The value of LOSS after iteration 38 is tensor(0.5902, grad_fn=<MseLossBackward>) \n",
      "\n",
      "The value of LOSS after iteration 39 is tensor(0.5881, grad_fn=<MseLossBackward>) \n",
      "\n",
      "The value of LOSS after iteration 40 is tensor(0.5873, grad_fn=<MseLossBackward>) \n",
      "\n",
      "The value of LOSS after iteration 41 is tensor(0.5877, grad_fn=<MseLossBackward>) \n",
      "\n",
      "The value of LOSS after iteration 42 is tensor(0.5895, grad_fn=<MseLossBackward>) \n",
      "\n",
      "The value of LOSS after iteration 43 is tensor(0.5925, grad_fn=<MseLossBackward>) \n",
      "\n",
      "The value of LOSS after iteration 44 is tensor(0.5967, grad_fn=<MseLossBackward>) \n",
      "\n",
      "The value of LOSS after iteration 45 is tensor(0.6020, grad_fn=<MseLossBackward>) \n",
      "\n",
      "The value of LOSS after iteration 46 is tensor(0.6085, grad_fn=<MseLossBackward>) \n",
      "\n",
      "The value of LOSS after iteration 47 is tensor(0.6161, grad_fn=<MseLossBackward>) \n",
      "\n",
      "The value of LOSS after iteration 48 is tensor(0.6246, grad_fn=<MseLossBackward>) \n",
      "\n",
      "The value of LOSS after iteration 49 is tensor(0.6341, grad_fn=<MseLossBackward>) \n",
      "\n",
      "The value of LOSS after iteration 50 is tensor(0.6445, grad_fn=<MseLossBackward>) \n",
      "\n",
      "The value of LOSS after iteration 51 is tensor(0.6556, grad_fn=<MseLossBackward>) \n",
      "\n",
      "The value of LOSS after iteration 52 is tensor(0.6674, grad_fn=<MseLossBackward>) \n",
      "\n",
      "The value of LOSS after iteration 53 is tensor(0.6798, grad_fn=<MseLossBackward>) \n",
      "\n",
      "The value of LOSS after iteration 54 is tensor(0.6928, grad_fn=<MseLossBackward>) \n",
      "\n",
      "The value of LOSS after iteration 55 is tensor(0.7061, grad_fn=<MseLossBackward>) \n",
      "\n",
      "The value of LOSS after iteration 56 is tensor(0.7199, grad_fn=<MseLossBackward>) \n",
      "\n",
      "The value of LOSS after iteration 57 is tensor(0.7338, grad_fn=<MseLossBackward>) \n",
      "\n",
      "The value of LOSS after iteration 58 is tensor(0.7479, grad_fn=<MseLossBackward>) \n",
      "\n",
      "The value of LOSS after iteration 59 is tensor(0.7620, grad_fn=<MseLossBackward>) \n",
      "\n",
      "The value of LOSS after iteration 60 is tensor(0.7761, grad_fn=<MseLossBackward>) \n",
      "\n",
      "The value of LOSS after iteration 61 is tensor(0.7901, grad_fn=<MseLossBackward>) \n",
      "\n",
      "The value of LOSS after iteration 62 is tensor(0.8038, grad_fn=<MseLossBackward>) \n",
      "\n",
      "The value of LOSS after iteration 63 is tensor(0.8172, grad_fn=<MseLossBackward>) \n",
      "\n",
      "The value of LOSS after iteration 64 is tensor(0.8302, grad_fn=<MseLossBackward>) \n",
      "\n",
      "The value of LOSS after iteration 65 is tensor(0.8428, grad_fn=<MseLossBackward>) \n",
      "\n",
      "The value of LOSS after iteration 66 is tensor(0.8547, grad_fn=<MseLossBackward>) \n",
      "\n",
      "The value of LOSS after iteration 67 is tensor(0.8661, grad_fn=<MseLossBackward>) \n",
      "\n",
      "The value of LOSS after iteration 68 is tensor(0.8767, grad_fn=<MseLossBackward>) \n",
      "\n",
      "The value of LOSS after iteration 69 is tensor(0.8865, grad_fn=<MseLossBackward>) \n",
      "\n",
      "The value of LOSS after iteration 70 is tensor(0.8956, grad_fn=<MseLossBackward>) \n",
      "\n",
      "The value of LOSS after iteration 71 is tensor(0.9037, grad_fn=<MseLossBackward>) \n",
      "\n",
      "The value of LOSS after iteration 72 is tensor(0.9110, grad_fn=<MseLossBackward>) \n",
      "\n",
      "The value of LOSS after iteration 73 is tensor(0.9173, grad_fn=<MseLossBackward>) \n",
      "\n",
      "The value of LOSS after iteration 74 is tensor(0.9226, grad_fn=<MseLossBackward>) \n",
      "\n",
      "The value of LOSS after iteration 75 is tensor(0.9269, grad_fn=<MseLossBackward>) \n",
      "\n",
      "The value of LOSS after iteration 76 is tensor(0.9302, grad_fn=<MseLossBackward>) \n",
      "\n",
      "The value of LOSS after iteration 77 is tensor(0.9324, grad_fn=<MseLossBackward>) \n",
      "\n",
      "The value of LOSS after iteration 78 is tensor(0.9337, grad_fn=<MseLossBackward>) \n",
      "\n",
      "The value of LOSS after iteration 79 is tensor(0.9339, grad_fn=<MseLossBackward>) \n",
      "\n",
      "The value of LOSS after iteration 80 is tensor(0.9331, grad_fn=<MseLossBackward>) \n",
      "\n",
      "The value of LOSS after iteration 81 is tensor(0.9313, grad_fn=<MseLossBackward>) \n",
      "\n",
      "The value of LOSS after iteration 82 is tensor(0.9285, grad_fn=<MseLossBackward>) \n",
      "\n",
      "The value of LOSS after iteration 83 is tensor(0.9248, grad_fn=<MseLossBackward>) \n",
      "\n",
      "The value of LOSS after iteration 84 is tensor(0.9202, grad_fn=<MseLossBackward>) \n",
      "\n",
      "The value of LOSS after iteration 85 is tensor(0.9148, grad_fn=<MseLossBackward>) \n",
      "\n",
      "The value of LOSS after iteration 86 is tensor(0.9085, grad_fn=<MseLossBackward>) \n",
      "\n",
      "The value of LOSS after iteration 87 is tensor(0.9015, grad_fn=<MseLossBackward>) \n",
      "\n",
      "The value of LOSS after iteration 88 is tensor(0.8938, grad_fn=<MseLossBackward>) \n",
      "\n",
      "The value of LOSS after iteration 89 is tensor(0.8855, grad_fn=<MseLossBackward>) \n",
      "\n",
      "The value of LOSS after iteration 90 is tensor(0.8766, grad_fn=<MseLossBackward>) \n",
      "\n",
      "The value of LOSS after iteration 91 is tensor(0.8672, grad_fn=<MseLossBackward>) \n",
      "\n",
      "The value of LOSS after iteration 92 is tensor(0.8574, grad_fn=<MseLossBackward>) \n",
      "\n",
      "The value of LOSS after iteration 93 is tensor(0.8472, grad_fn=<MseLossBackward>) \n",
      "\n",
      "The value of LOSS after iteration 94 is tensor(0.8368, grad_fn=<MseLossBackward>) \n",
      "\n",
      "The value of LOSS after iteration 95 is tensor(0.8262, grad_fn=<MseLossBackward>) \n",
      "\n",
      "The value of LOSS after iteration 96 is tensor(0.8154, grad_fn=<MseLossBackward>) \n",
      "\n",
      "The value of LOSS after iteration 97 is tensor(0.8046, grad_fn=<MseLossBackward>) \n",
      "\n",
      "The value of LOSS after iteration 98 is tensor(0.7938, grad_fn=<MseLossBackward>) \n",
      "\n",
      "The value of LOSS after iteration 99 is tensor(0.7831, grad_fn=<MseLossBackward>) \n",
      "\n"
     ]
    }
   ],
   "source": [
    "train_loss = []\n",
    "for i in range(100):\n",
    "    pred = linear(x)\n",
    "    loss = criterion(pred,y)\n",
    "    loss.backward()\n",
    "    optimizer.step()\n",
    "    train_loss.append(loss)\n",
    "    print(\"The value of LOSS after iteration\", i, \"is\", loss, \"\\n\")\n",
    "    "
   ]
  },
  {
   "cell_type": "code",
   "execution_count": 28,
   "metadata": {
    "scrolled": true
   },
   "outputs": [
    {
     "data": {
      "text/plain": [
       "[<matplotlib.lines.Line2D at 0x7fb7e4fd29e8>]"
      ]
     },
     "execution_count": 28,
     "metadata": {},
     "output_type": "execute_result"
    },
    {
     "data": {
      "image/png": "[encoded data removed]",
      "text/plain": [
       "<Figure size 432x288 with 1 Axes>"
      ]
     },
     "metadata": {
      "needs_background": "light"
     },
     "output_type": "display_data"
    }
   ],
   "source": [
    "plt.plot(train_loss)"
   ]
  },
  {
   "cell_type": "code",
   "execution_count": null,
   "metadata": {},
   "outputs": [],
   "source": [
    "######################################################################\n",
    "#####################  Input Pipeline  ###############################\n",
    "######################################################################"
   ]
  },
  {
   "cell_type": "code",
   "execution_count": 31,
   "metadata": {
    "scrolled": true
   },
   "outputs": [
    {
     "name": "stdout",
     "output_type": "stream",
     "text": [
      "Downloading https://www.cs.toronto.edu/~kriz/cifar-10-python.tar.gz to data/cifar-10-python.tar.gz\n"
     ]
    }
   ],
   "source": [
    "###### Downloading and Constructing the Cifar 10 dataset\n",
    "train_dataset = torchvision.datasets.CIFAR10(root = 'data/', train = True, transform = transforms.ToTensor(), download = True )"
   ]
  },
  {
   "cell_type": "code",
   "execution_count": 35,
   "metadata": {},
   "outputs": [],
   "source": [
    "# Data Loader ( this provides queues and threads in a very simple way)\n",
    "train_loader = torch.utils.data.DataLoader(dataset = train_dataset, batch_size = 64, shuffle = True)\n"
   ]
  },
  {
   "cell_type": "code",
   "execution_count": 37,
   "metadata": {},
   "outputs": [],
   "source": [
    "# When iteration starts, queue and thread start to load data from files.\n",
    "data_iter = iter(train_loader)"
   ]
  },
  {
   "cell_type": "code",
   "execution_count": 38,
   "metadata": {},
   "outputs": [],
   "source": [
    "# Actual usage of data_loader will be as follows\n",
    "for images,labels in train_loader:\n",
    "    ## Training should be writter here\n",
    "    pass"
   ]
  },
  {
   "cell_type": "code",
   "execution_count": 41,
   "metadata": {},
   "outputs": [
    {
     "data": {
      "text/plain": [
       "torch.Size([64, 3, 32, 32])"
      ]
     },
     "execution_count": 41,
     "metadata": {},
     "output_type": "execute_result"
    }
   ],
   "source": [
    "(data_iter.next()[0]).size()"
   ]
  },
  {
   "cell_type": "code",
   "execution_count": 42,
   "metadata": {},
   "outputs": [],
   "source": [
    "######################################################################\n",
    "################# Downloading Pretrained Models ######################\n",
    "#################################################################\n",
    "#####"
   ]
  },
  {
   "cell_type": "code",
   "execution_count": 43,
   "metadata": {},
   "outputs": [
    {
     "name": "stderr",
     "output_type": "stream",
     "text": [
      "Downloading: \"https://download.pytorch.org/models/resnet18-5c106cde.pth\" to /home/prerit/.torch/models/resnet18-5c106cde.pth\n",
      "100%|██████████| 46827520/46827520 [00:50<00:00, 924245.17it/s] \n"
     ]
    }
   ],
   "source": [
    "# Download and load the pretrained ResNet-18.\n",
    "resnet = torchvision.models.resnet18(pretrained = True)\n"
   ]
  },
  {
   "cell_type": "code",
   "execution_count": 48,
   "metadata": {},
   "outputs": [
    {
     "name": "stdout",
     "output_type": "stream",
     "text": [
      "Linear(in_features=512, out_features=100, bias=True)\n"
     ]
    }
   ],
   "source": [
    "for param in resnet.parameters():\n",
    "    param.requires_grad = False\n",
    "    \n",
    "# Replace the top layer for fine tuning\n",
    "resnet.fc = nn.Linear(resnet.fc.in_features, 100)\n",
    "print(resnet.fc)"
   ]
  }
 ],
 "metadata": {
  "kernelspec": {
   "display_name": "Python 3",
   "language": "python",
   "name": "python3"
  },
  "language_info": {
   "codemirror_mode": {
    "name": "ipython",
    "version": 3
   },
   "file_extension": ".py",
   "mimetype": "text/x-python",
   "name": "python",
   "nbconvert_exporter": "python",
   "pygments_lexer": "ipython3",
   "version": "3.7.1"
  }
 },
 "nbformat": 4,
 "nbformat_minor": 2
}
