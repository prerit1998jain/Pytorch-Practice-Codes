{
 "cells": [
  {
   "cell_type": "code",
   "execution_count": 1,
   "metadata": {},
   "outputs": [],
   "source": [
    "######################################################################\n",
    "###############   IMPORTING THE NECESSARY PACKAGES  ##################\n",
    "######################################################################\n",
    "\n",
    "import torch\n",
    "import torchvision\n",
    "import torch.nn as nn\n",
    "import torchvision.transforms as transforms"
   ]
  },
  {
   "cell_type": "code",
   "execution_count": 35,
   "metadata": {},
   "outputs": [],
   "source": [
    "######################################################################\n",
    "###############   DEFINING THE HYPERPARAMETERS  ######################\n",
    "######################################################################\n",
    "\n",
    "batch_size = 100\n",
    "sequence_length = 28\n",
    "input_size = 28\n",
    "hidden_size = 128\n",
    "num_layers = 1\n",
    "num_classes = 10\n",
    "num_iter = 4\n",
    "learning_rate = 0.01"
   ]
  },
  {
   "cell_type": "code",
   "execution_count": 36,
   "metadata": {},
   "outputs": [
    {
     "name": "stdout",
     "output_type": "stream",
     "text": [
      "cuda\n"
     ]
    }
   ],
   "source": [
    "######################################################################\n",
    "##################   DEVICE CONFIGURATION ############################\n",
    "######################################################################\n",
    "\n",
    "device = ('cuda' if torch.cuda.is_available() else 'cpu')\n",
    "print(device)"
   ]
  },
  {
   "cell_type": "code",
   "execution_count": 37,
   "metadata": {},
   "outputs": [],
   "source": [
    "######################################################################\n",
    "####################   LOADING THE DATASET  ##########################\n",
    "######################################################################\n",
    "\n",
    "# Downloading the MNIST dataset\n",
    "train_dataset = torchvision.datasets.MNIST('./data/', train = True, transform = transforms.ToTensor(), download = True)\n",
    "test_dataset = torchvision.datasets.MNIST('./data/', train = False, transform = transforms.ToTensor())\n",
    "\n",
    "# DataLoading step \n",
    "train_loader = torch.utils.data.DataLoader(dataset = train_dataset, batch_size = batch_size, shuffle = True)\n",
    "test_loader = torch.utils.data.DataLoader(dataset = test_dataset, batch_size = batch_size, shuffle = False)\n"
   ]
  },
  {
   "cell_type": "code",
   "execution_count": 38,
   "metadata": {},
   "outputs": [],
   "source": [
    "######################################################################\n",
    "####################  DEFINING THE MODEL  ############################\n",
    "######################################################################\n",
    "\n",
    "# Defining the modular class for the model \n",
    "\n",
    "class RNN(nn.Module):\n",
    "    def __init__(self, input_size, hidden_size, num_layers, num_classes):\n",
    "        super(RNN,self).__init__()\n",
    "        self.hidden_size = hidden_size\n",
    "        self.num_layers = num_layers\n",
    "        self.lstm = nn.LSTM(input_size, hidden_size, num_layers, batch_first = True)\n",
    "        self.fc = nn.Linear(hidden_size, num_classes)\n",
    "\n",
    "    ## Defining the forward method\n",
    "    \n",
    "    def forward(self,x):\n",
    "        # Defining the initial hidden state and initial cell state\n",
    "        c0 = torch.zeros(self.num_layers, x.size(0),self.hidden_size).to(device)\n",
    "        h0 = torch.zeros(self.num_layers, x.size(0),self.hidden_size).to(device)\n",
    "        \n",
    "        # Forward propagate LSTM\n",
    "        # out: tensor of shape (batch_size, seq_length, hidden_size)\n",
    "        out, _ = self.lstm(x, (c0,h0))\n",
    "        \n",
    "        # Decoding the hidden state at the last time_stamp\n",
    "        out = self.fc(out[:,-1,:])\n",
    "        return out\n",
    "\n",
    "# Defining the model as an instance to the class RNN\n",
    "model = RNN(input_size, hidden_size, num_layers, num_classes).to(device)"
   ]
  },
  {
   "cell_type": "code",
   "execution_count": 39,
   "metadata": {},
   "outputs": [],
   "source": [
    "######################################################################\n",
    "###########  DEFINING THE LOSS CRITERION AND OPTIMIZER ###############\n",
    "######################################################################\n",
    "\n",
    "criterion = nn.CrossEntropyLoss()\n",
    "optimizer = torch.optim.Adam(model.parameters(), lr = learning_rate)\n"
   ]
  },
  {
   "cell_type": "code",
   "execution_count": 40,
   "metadata": {},
   "outputs": [
    {
     "name": "stdout",
     "output_type": "stream",
     "text": [
      "Epochs: [1/4], step: [300/600], Loss: 0.13065467774868011\n",
      "Epochs: [1/4], step: [600/600], Loss: 0.16951213777065277\n",
      "Epochs: [2/4], step: [300/600], Loss: 0.018430182710289955\n",
      "Epochs: [2/4], step: [600/600], Loss: 0.08410560339689255\n",
      "Epochs: [3/4], step: [300/600], Loss: 0.026027603074908257\n",
      "Epochs: [3/4], step: [600/600], Loss: 0.03004399500787258\n",
      "Epochs: [4/4], step: [300/600], Loss: 0.017285894602537155\n",
      "Epochs: [4/4], step: [600/600], Loss: 0.08444494009017944\n"
     ]
    }
   ],
   "source": [
    "######################################################################\n",
    "####################### THE TRAINING LOOP ############################\n",
    "######################################################################\n",
    "\n",
    "total_step = len(train_loader)\n",
    "for iter in range(num_iter):\n",
    "    for i, (images, labels) in enumerate(train_loader):\n",
    "        images = images.reshape(-1, sequence_length, input_size).to(device)\n",
    "        labels = labels.to(device)\n",
    "        \n",
    "        # Forward Pass\n",
    "        outputs = model(images)\n",
    "        loss = criterion(outputs, labels)\n",
    "        \n",
    "        # Backpropagation\n",
    "        optimizer.zero_grad()\n",
    "        loss.backward()\n",
    "        optimizer.step()\n",
    "        \n",
    "        if (i+1)% 300 == 0:\n",
    "            print(\"Epochs: [{}/{}], step: [{}/{}], Loss: {}\".format(iter+1,num_iter,i+1, total_step, loss.item()))\n",
    "    "
   ]
  },
  {
   "cell_type": "code",
   "execution_count": 41,
   "metadata": {},
   "outputs": [
    {
     "name": "stdout",
     "output_type": "stream",
     "text": [
      "Test Accuracy of the model on the 10000 test images: 97.53 %\n"
     ]
    }
   ],
   "source": [
    "######################################################################\n",
    "########################### VALIDATION ###############################\n",
    "######################################################################\n",
    "\n",
    "with torch.no_grad():\n",
    "    correct = 0\n",
    "    total = 0\n",
    "    for images, labels in test_loader:\n",
    "        images = images.reshape(-1,sequence_length, input_size).to(device)\n",
    "        labels = labels.to(device)\n",
    "        \n",
    "        outputs = model(images)\n",
    "        _,predicted = torch.max(outputs.data, 1)\n",
    "        total += labels.size(0)\n",
    "        correct += (predicted == labels).sum().item()\n",
    "        \n",
    "    print('Test Accuracy of the model on the 10000 test images: {} %'.format(100*correct/total))\n",
    "    "
   ]
  },
  {
   "cell_type": "code",
   "execution_count": 42,
   "metadata": {},
   "outputs": [],
   "source": [
    "######################################################################\n",
    "######################  SAVING THE MODEL #############################\n",
    "######################################################################\n",
    "torch.save(model.state_dict(), 'RNN_on_MNIST.ckpt')\n"
   ]
  }
 ],
 "metadata": {
  "kernelspec": {
   "display_name": "Python 3",
   "language": "python",
   "name": "python3"
  },
  "language_info": {
   "codemirror_mode": {
    "name": "ipython",
    "version": 3
   },
   "file_extension": ".py",
   "mimetype": "text/x-python",
   "name": "python",
   "nbconvert_exporter": "python",
   "pygments_lexer": "ipython3",
   "version": "3.6.8"
  }
 },
 "nbformat": 4,
 "nbformat_minor": 2
}
