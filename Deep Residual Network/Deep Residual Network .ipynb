{
 "cells": [
  {
   "cell_type": "code",
   "execution_count": 1,
   "metadata": {},
   "outputs": [],
   "source": [
    "######################################################################\n",
    "###############   IMPORTING THE NECESSARY PACKAGES  ##################\n",
    "######################################################################\n",
    "\n",
    "import torch\n",
    "import torch.nn as nn\n",
    "import torchvision\n",
    "import torchvision.transforms as transforms"
   ]
  },
  {
   "cell_type": "code",
   "execution_count": 4,
   "metadata": {},
   "outputs": [
    {
     "name": "stdout",
     "output_type": "stream",
     "text": [
      "cuda\n"
     ]
    }
   ],
   "source": [
    "######################################################################\n",
    "##################   DEVICE CONFIGURATION ############################\n",
    "######################################################################\n",
    "\n",
    "device = torch.device('cuda' if torch.cuda.is_available() else 'cpu')\n",
    "print(device)"
   ]
  },
  {
   "cell_type": "code",
   "execution_count": 5,
   "metadata": {},
   "outputs": [],
   "source": [
    "######################################################################\n",
    "##################  HYPTERPARAMETER DEFINITION #######################\n",
    "######################################################################\n",
    "\n",
    "batch_size = 100\n",
    "num_epochs = 80\n",
    "learning_rate = 0.001"
   ]
  },
  {
   "cell_type": "code",
   "execution_count": 6,
   "metadata": {},
   "outputs": [],
   "source": [
    "######################################################################\n",
    "##################  PREPROCESSING OF IMAGE ###########################\n",
    "######################################################################\n",
    "\n",
    "transform = transforms.Compose([transforms.Pad(4), transforms.RandomHorizontalFlip(),\n",
    "                               transforms.RandomCrop(32), transforms.ToTensor()])"
   ]
  },
  {
   "cell_type": "code",
   "execution_count": 13,
   "metadata": {},
   "outputs": [
    {
     "name": "stdout",
     "output_type": "stream",
     "text": [
      "Files already downloaded and verified\n"
     ]
    }
   ],
   "source": [
    "######################################################################\n",
    "#####################  PREPARING THE TRAINING DATA ###################\n",
    "######################################################################\n",
    "\n",
    "train_dataset = torchvision.datasets.CIFAR10(root = './data', train = True,\n",
    "                                             transform = transform, \n",
    "                                             download = True)\n",
    "test_dataset = torchvision.datasets.CIFAR10(root = './data', train = False,\n",
    "                                            transform = transforms.ToTensor()\n",
    "                                           )\n",
    "\n",
    "trainLoader = torch.utils.data.DataLoader(dataset = train_dataset, \n",
    "                                                batch_size = batch_size, \n",
    "                                                shuffle = True)\n",
    "testLoader = torch.utils.data.DataLoader(dataset = test_dataset,\n",
    "                                               batch_size = batch_size,\n",
    "                                              shuffle = False)"
   ]
  },
  {
   "cell_type": "code",
   "execution_count": null,
   "metadata": {},
   "outputs": [],
   "source": [
    "######################################################################\n",
    "##################### DEFINING THE MODEL CLASSES #####################\n",
    "######################################################################\n",
    "\n",
    "def conv3x3(self, in_channels, out_channels, stride = 1):\n",
    "    return(nn.Conv2d(in_channels, out_channels, kernel_size = 3, \n",
    "                    stride = stride, padding = 1, bias = False))\n",
    "\n",
    "class ResidualBlock(nn.Module):\n",
    "    def __init__(self, in_channels, out_channels, stride = 1, downsample = None):\n",
    "        super(ResidualBlock, self).__init__()\n",
    "        self.convv1 = (conv3x3(in_channels, out_channels, stride = 1))\n",
    "    \n"
   ]
  }
 ],
 "metadata": {
  "kernelspec": {
   "display_name": "Python 3",
   "language": "python",
   "name": "python3"
  },
  "language_info": {
   "codemirror_mode": {
    "name": "ipython",
    "version": 3
   },
   "file_extension": ".py",
   "mimetype": "text/x-python",
   "name": "python",
   "nbconvert_exporter": "python",
   "pygments_lexer": "ipython3",
   "version": "3.6.8"
  }
 },
 "nbformat": 4,
 "nbformat_minor": 2
}
