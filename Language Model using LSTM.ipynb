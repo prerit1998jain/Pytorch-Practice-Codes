{
 "cells": [
  {
   "cell_type": "code",
   "execution_count": null,
   "metadata": {},
   "outputs": [],
   "source": [
    "######################################################################\n",
    "###############   IMPORTING THE NECESSARY PACKAGES  ##################\n",
    "######################################################################\n",
    "\n",
    "import torch\n",
    "import torch.nn as nn\n",
    "import numpy as np\n",
    "import os\n",
    "\n",
    "# clip_grad_norm_ is used for truncated backpropagation\n",
    "from torch.nn.utils import clip_grad_norm_\n"
   ]
  },
  {
   "cell_type": "code",
   "execution_count": null,
   "metadata": {},
   "outputs": [],
   "source": [
    "######################################################################\n",
    "##################   DEVICE CONFIGURATION ############################\n",
    "######################################################################\n",
    "\n",
    "device = torch.device('cuda' if torch.cuda.is_available() else 'cpu')\n",
    "print(device)"
   ]
  },
  {
   "cell_type": "code",
   "execution_count": null,
   "metadata": {},
   "outputs": [],
   "source": [
    "######################################################################\n",
    "############ DEFINING THE DICTIIONARY AND CORPUS CLASSES #############\n",
    "######################################################################\n",
    "\n",
    "class Dictionary(object):\n",
    "    \n",
    "    def __init__(self):\n",
    "        # Two dictionaries maintained\n",
    "        # For finding the index of a given word - word2idx\n",
    "        self.word2idx = {}\n",
    "        # For finding the word given an index - idx2word\n",
    "        self.idx2word = {}\n",
    "        self.idx = 0\n",
    "    \n",
    "    # Method for adding a new word into an instance of the Dictionary class.\n",
    "    def add_word(self, word):\n",
    "        if not word in self.word2idx:\n",
    "            self.word2idx[word] = self.idx\n",
    "            self.idx2word[self.idx] = word\n",
    "            self.idx += 1\n",
    "            \n",
    "    # method will return the vocabulary size.\n",
    "    def __len__(self):\n",
    "        return(len(self.word2idx))\n",
    "    \n",
    "class Corpus(object):\n",
    "    def __init__(self):\n",
    "        self.Dictionary = Dictionary()\n",
    "        \n",
    "    def get_data(self,path, batch_size=20):\n",
    "        # Add word to the dictionary\n",
    "        with open(path,'r') as f:\n",
    "            tokens = 0\n",
    "            for line in f:\n",
    "                words = line.split() + ['<eos>']\n",
    "                tokens += len(words)\n",
    "                for word in words:\n",
    "                    self.Dictionary.add_word(word)\n",
    "        \n",
    "        \n",
    "        # Tokenize the file content\n",
    "        ids = torch.LongTensor(tokens)\n",
    "        token = 0\n",
    "        with open(path, 'r') as f:\n",
    "            for line in f:\n",
    "                words = line.split() + ['<eos>']\n",
    "                for words in words:\n",
    "                    ids[token] = self.Dictionary.word2idx[word]\n",
    "                    token += 1 \n",
    "        num_batches = ids.size(0) // batch_size\n",
    "        ids = ids[:num_batches*(batch_size)]\n",
    "        return(ids.view(batch_size, -1))\n",
    "    "
   ]
  },
  {
   "cell_type": "code",
   "execution_count": null,
   "metadata": {},
   "outputs": [],
   "source": [
    "######################################################################\n",
    "##################  HYPTERPARAMETER DEFINITION #######################\n",
    "######################################################################\n",
    "\n",
    "batch_size = 20\n",
    "embed_size = 128\n",
    "hidden_size = 1024\n",
    "num_layers = 1\n",
    "num_epochs = 2\n",
    "\n",
    "num_samples = 1000\n",
    "seq_length = 30\n",
    "learning_rate = 0.002\n"
   ]
  },
  {
   "cell_type": "code",
   "execution_count": null,
   "metadata": {},
   "outputs": [],
   "source": [
    "######################################################################\n",
    "##############  LOADING THE PENN TREEBANK DATASET ####################\n",
    "######################################################################\n",
    "\n",
    "path = 'data/train.txt'\n",
    "corpus = Corpus()\n",
    "idxs = corpus.get_data(path, batch_size)\n",
    "vocab_size = len(corpus.Dictionary)\n",
    "num_batches = idxs.size(1) // seq_length"
   ]
  },
  {
   "cell_type": "code",
   "execution_count": null,
   "metadata": {},
   "outputs": [],
   "source": [
    "######################################################################\n",
    "##############  DEFINING RNN BASED LANGUAGE MODEL ####################\n",
    "######################################################################\n",
    "\n",
    "class RNNLM(nn.Module):\n",
    "    def __init__(self, vocab_size, embed_size, hidden_size, num_layers):\n",
    "        super(RNNLM, self).__init__()\n",
    "        self.embeddings = nn.Embedding(vocab_size, embed_size)\n",
    "        self.LSTM = nn.LSTM(embed_size, hidden_size, num_layers, batch_first = True)\n",
    "        self.out = nn.Linear(hidden_size, vocab_size)\n",
    "        \n",
    "    def forward(self, x, h):\n",
    "        \n",
    "        # Taking word indices to embeddings\n",
    "        x = self.embeddings(x)\n",
    "        \n",
    "        # Forward propagate LSTM\n",
    "        out, (h,c) = self.LSTM(x, h)\n",
    "        \n",
    "        # Reshaping the output in desired shape (batch_size*sequence_length, hidden_size)\n",
    "        out = out.reshape(out.size(0)*out.size(1), out.size(2))\n",
    "        \n",
    "        # Decoding to the final vocabulary size to get the word\n",
    "        out = self.out(out)\n",
    "        \n",
    "        return(out, (h,c))\n",
    "    \n",
    "Lang_Model = RNNLM(vocab_size, embed_size, hidden_size, num_layers).to(device)"
   ]
  },
  {
   "cell_type": "code",
   "execution_count": null,
   "metadata": {},
   "outputs": [],
   "source": [
    "######################################################################\n",
    "#######################  LOSS AND OPTIMIZER ##########################\n",
    "######################################################################\n",
    "\n",
    "criterion = nn.CrossEntropyLoss()\n",
    "optimizer = torch.optim.Adam(Lang_Model.parameters(), lr = learning_rate)"
   ]
  },
  {
   "cell_type": "code",
   "execution_count": null,
   "metadata": {},
   "outputs": [],
   "source": [
    "######################################################################\n",
    "#################### TRUNCATED BACKPROPAGATION #######################\n",
    "######################################################################\n",
    "\n",
    "def detach(states):\n",
    "    return [state.detach() for state in states]"
   ]
  },
  {
   "cell_type": "code",
   "execution_count": null,
   "metadata": {
    "scrolled": false
   },
   "outputs": [],
   "source": [
    "######################################################################\n",
    "####################### TRAINING THE MODEL ###########################\n",
    "######################################################################\n",
    "\n",
    "for epoch in range(num_epochs):\n",
    "    # Set initial hidden and cell states\n",
    "    states = (torch.zeros(num_layers, batch_size, hidden_size).to(device), torch.zeros(num_layers, batch_size, hidden_size).to(device))\n",
    "    \n",
    "    for i in range(0, idxs.size(1) - seq_length, seq_length):\n",
    "        # Get mini-batch inputs and targets\n",
    "        inputs = idxs[:, i:i+seq_length].to(device)\n",
    "        targets = idxs[:, (i+1):(i+1)+seq_length].to(device)\n",
    "        \n",
    "        # Forward Pass\n",
    "        states = detach(states)\n",
    "        outputs, states = Lang_Model(inputs, states)\n",
    "        loss = criterion(outputs, targets.reshape(-1))\n",
    "        \n",
    "        # Backpropagation\n",
    "        Lang_Model.zero_grad()\n",
    "        loss.backward()\n",
    "        clip_grad_norm_(Lang_Model.parameters(), 0.5)\n",
    "        optimizer.step()\n",
    "        \n",
    "        step = (i+1) // seq_length\n",
    "        if step % 100 == 0:\n",
    "            print('Epoch: [{}/{}], Step: [{}/{}], Loss: {:.4f}, Perplexity: {:5.2f}'.format(epoch+1,num_epochs, step, num_batches, loss.item(), np.exp(loss.item())))\n",
    "        "
   ]
  },
  {
   "cell_type": "code",
   "execution_count": null,
   "metadata": {},
   "outputs": [],
   "source": []
  }
 ],
 "metadata": {
  "kernelspec": {
   "display_name": "Python 3",
   "language": "python",
   "name": "python3"
  },
  "language_info": {
   "codemirror_mode": {
    "name": "ipython",
    "version": 3
   },
   "file_extension": ".py",
   "mimetype": "text/x-python",
   "name": "python",
   "nbconvert_exporter": "python",
   "pygments_lexer": "ipython3",
   "version": "3.6.8"
  }
 },
 "nbformat": 4,
 "nbformat_minor": 2
}
